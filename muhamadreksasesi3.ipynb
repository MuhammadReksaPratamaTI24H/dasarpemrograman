{
 "cells": [
  {
   "cell_type": "code",
   "execution_count": 3,
   "id": "b7d785a4-a8d8-4010-870e-75a12071380d",
   "metadata": {},
   "outputs": [
    {
     "name": "stdout",
     "output_type": "stream",
     "text": [
      "Nama : muhamad reksa pratama\n",
      "Alamat : jl.jampangkulon\n",
      "Umur : 20\n",
      "Nilai pemrograman : 90.7\n",
      "Status Menikah : False\n",
      "propinsi : 030405\n"
     ]
    }
   ],
   "source": [
    "name = \"muhamad reksa pratama\"\n",
    "addres,province = \"jl.jampangkulon\",\"030405\"\n",
    "age = 20\n",
    "scorePython = 90.7\n",
    "isMarried = False\n",
    "\n",
    "\n",
    "print (\"Nama :\" ,name)\n",
    "print (\"Alamat :\" , addres)\n",
    "print (\"Umur :\" ,age)\n",
    "print (\"Nilai pemrograman :\" ,scorePython)\n",
    "print (\"Status Menikah :\" ,isMarried)\n",
    "print (\"propinsi :\" ,province)\n",
    "\n",
    "\n",
    "    "
   ]
  },
  {
   "cell_type": "code",
   "execution_count": 4,
   "id": "5cee2ea7-4881-45cd-9b63-143f877fc878",
   "metadata": {},
   "outputs": [
    {
     "name": "stdout",
     "output_type": "stream",
     "text": [
      "tipe data <name> : <class 'str'>\n",
      "tipe data <address> : <class 'str'>\n",
      "tipe data <age> : <class 'int'>\n",
      "tipe data <scorePython> : <class 'float'>\n",
      "tipe data <isMarried> : <class 'bool'>\n"
     ]
    }
   ],
   "source": [
    "print (\"tipe data <name> :\" , type(name))\n",
    "print (\"tipe data <address> :\" , type(address))\n",
    "print (\"tipe data <age> :\" , type(age))\n",
    "print (\"tipe data <scorePython> :\" , type(scorePython))\n",
    "print (\"tipe data <isMarried> :\" , type(isMarried))\n"
   ]
  },
  {
   "cell_type": "code",
   "execution_count": 10,
   "id": "f7ff902a-b1dd-48b4-9121-b3f8dbe1933e",
   "metadata": {},
   "outputs": [
    {
     "name": "stdout",
     "output_type": "stream",
     "text": [
      "30407-30405.0-True\n",
      "20-30405.0-True\n",
      "90.7-90-True\n",
      "False-0-False\n"
     ]
    }
   ],
   "source": [
    "# casting / KOnversi Tipe Data\n",
    "#1. String ke (int,float,boolean)\n",
    "strToInt = int (province)\n",
    "strToFLoat = float (province)\n",
    "strToBool = bool (province)\n",
    "print(strToInt + 2,strToFLoat,strToBool, sep=\"-\")\n",
    "\n",
    "#2. String ke (int,float,boolean)\n",
    "intToStr= str (age)\n",
    "intToFLoat = float (age)\n",
    "intToBool = bool (age)\n",
    "print(intToStr ,strToFLoat,strToBool, sep=\"-\")\n",
    "\n",
    "#3. Float ke (int,float,boolean)\n",
    "floatToStr= str (scorePython)\n",
    "floatToint = int (scorePython)\n",
    "floatToBool = bool (scorePython)\n",
    "print(floatToStr ,floatToint,floatToBool, sep=\"-\")\n",
    "\n",
    "#3. Bool ke (int,float,boolean)\n",
    "boolToStr= str (isMarried)\n",
    "boolToint = int (isMarried)\n",
    "boolTofloat = bool (isMarried)\n",
    "print(boolToStr ,boolToint,boolTofloat, sep=\"-\")\n"
   ]
  },
  {
   "cell_type": "code",
   "execution_count": 11,
   "id": "b7ad2567-d2fb-4997-8abc-c6478f35aba0",
   "metadata": {},
   "outputs": [
    {
     "name": "stdout",
     "output_type": "stream",
     "text": [
      "Nilai desimal : 500\n",
      " Nilai biner : 10\n",
      " Nilai octal : 255\n",
      " Nilai hexa : 255\n",
      "Nilai biner dari 500 : 0b111110100\n",
      "Nilai octal dari 500 : 0o764\n",
      "Nilai hexa dari 500 : 0x1f4\n"
     ]
    }
   ],
   "source": [
    "#Tipe data basis bilangan (desimal,biner,octal, hexa)\n",
    "\n",
    "desimal = 500\n",
    "biner = 0b1010 #10\n",
    "octal = 0o377 #255\n",
    "hexa = 0xff #255\n",
    "\n",
    "print (\"Nilai desimal :\",desimal)\n",
    "print (\" Nilai biner :\",biner)\n",
    "print (\" Nilai octal :\",octal)\n",
    "print (\" Nilai hexa :\",hexa)\n",
    "\n",
    "print (\"Nilai biner dari\",desimal, \":\" ,bin(desimal))\n",
    "print (\"Nilai octal dari\",desimal, \":\" ,oct(desimal))\n",
    "print (\"Nilai hexa dari\",desimal, \":\" ,hex(desimal))"
   ]
  },
  {
   "cell_type": "code",
   "execution_count": 12,
   "id": "7af339e1-03aa-4bb9-8c48-ae6739a87b8c",
   "metadata": {},
   "outputs": [
    {
     "name": "stdout",
     "output_type": "stream",
     "text": [
      "B\n",
      "7\n",
      "G\n"
     ]
    }
   ],
   "source": [
    "city = \"BANDUNG\"\n",
    "length = len(city)\n",
    "print (city[0])\n",
    "print (length)\n",
    "print (city[length-1])"
   ]
  },
  {
   "cell_type": "code",
   "execution_count": 15,
   "id": "7f7c4bdf-f4e1-43c6-b191-ddac02ec7863",
   "metadata": {},
   "outputs": [
    {
     "name": "stdout",
     "output_type": "stream",
     "text": [
      "['bandung', 'Sukabumi', 'Bogor', 'Jakarta', 'medan']\n",
      "bandung\n",
      "medan\n",
      "m\n",
      "n\n",
      "['Bali', 'Sukabumi', 'Bogor', 'Jakarta', 'medan']\n",
      "('reksa', 'dedi', 'ardi')\n",
      "dedi\n",
      "{'name': 'reksa', 'age': 20, 'address': {'street': 'jampang', 'number': 23, 'province': 'Jawa Barat'}, 'isMarried': False, 'hobbies': ['badminton', 'volly']}\n",
      "20\n",
      "Jawa Barat\n",
      "badminton\n"
     ]
    }
   ],
   "source": [
    "#Tipe data Collection\n",
    "cities =[\"bandung\",\"Sukabumi\",\"Bogor\",\"Jakarta\",\"medan\"]\n",
    "lengthCities = len(cities)\n",
    "print (cities)\n",
    "print (cities[0])\n",
    "print (cities[lengthCities-1])\n",
    "print (cities[lengthCities-1][0])\n",
    "print (cities[lengthCities-1][len(cities[lengthCities-1])-1])\n",
    "cities [0] = \"Bali\"\n",
    "#cities[5] = \"Malang\" akan menyebabkan eror out of range\n",
    "print (cities)\n",
    "\n",
    "names = (\"reksa\",\"dedi\",\"ardi\")\n",
    "print (names)\n",
    "print (names[1])\n",
    "#names[0] = \"Dedi\" error immutable tuple\n",
    "\n",
    "studentData = {\n",
    "    \"name\" : \"reksa\",\n",
    "    \"age\": 20,\n",
    "    \"address\" : {\n",
    "        \"street\" : \"jampang\",\n",
    "        \"number\" : 23,\n",
    "        \"province\" : \"Jawa Barat\"\n",
    "    },\n",
    "    \"isMarried\" : False,\n",
    "    \"hobbies\" : [\"badminton\", \"volly\"]\n",
    "    \n",
    "\n",
    "}\n",
    "{\n",
    "    \"name\" : \"Dedi\",\n",
    "    \"age\" : 15,\n",
    "    \"address\" : {\n",
    "        \"street\" : \"Bogor\",\n",
    "        \"number\" : 29,\n",
    "        \"province\" : \"Jawa Barat\"\n",
    "    },\n",
    "    \"isMarried\" : False,\n",
    "    \"hobbies\" : [\"Chess\", \"Singing\"]\n",
    "}\n",
    "\n",
    "\n",
    "\n",
    "print (studentData)\n",
    "print (studentData[\"age\"])\n",
    "print (studentData[\"address\"][\"province\"])\n",
    "print (studentData[\"hobbies\"][0])"
   ]
  },
  {
   "cell_type": "code",
   "execution_count": 16,
   "id": "f94f874a-551b-41fd-af3a-39ef1c5df75e",
   "metadata": {},
   "outputs": [
    {
     "name": "stdout",
     "output_type": "stream",
     "text": [
      "{'name': 'andi', 'age': 30, 'Status': True}\n",
      "{'Name': 'Rudi', 'Address': 'Bogor'}\n",
      "{'name': 'tiger', 'Type': 'Mamalia'}\n",
      "{'name': 'Crocodile', 'type': 'Reptile'}\n",
      "{'vehicle': 'car', 'Brand': 'BMW', 'cc': '2500'}\n"
     ]
    }
   ],
   "source": [
    "#Konversi dictionary\n",
    "\n",
    "list_list =[[\"name\",\"andi\"],[\"age\", 30],[\"Status\", True]]\n",
    "dictListStudent = dict (list_list)\n",
    "print (dictListStudent)\n",
    "\n",
    "list_tuple = [(\"Name\",\"Rudi\"),(\"Address\",\"Bogor\")]\n",
    "dictTupleStudent = dict (list_tuple)\n",
    "print (dictTupleStudent)\n",
    "\n",
    "tuple_list = ([\"name\",\"tiger\"],[\"Type\",\"Mamalia\"])\n",
    "dictListAnimal = dict (tuple_list)\n",
    "print (dictListAnimal)\n",
    "\n",
    "tuple_tuple = ((\"name\", \"Crocodile\"), (\"type\", \"Reptile\"))\n",
    "dictTupAnimal = dict(tuple_tuple)\n",
    "print (dictTupAnimal)\n",
    "\n",
    "keys = [ \"vehicle\",\"Brand\" ,\"cc\"]\n",
    "values = [\"car\",\"BMW\", \"2500\"]\n",
    "car = dict(zip(keys,values))\n",
    "print(car)"
   ]
  },
  {
   "cell_type": "code",
   "execution_count": null,
   "id": "a9c3e799-9d96-48cd-974c-c383a29340a9",
   "metadata": {},
   "outputs": [],
   "source": []
  }
 ],
 "metadata": {
  "kernelspec": {
   "display_name": "Python 3 (ipykernel)",
   "language": "python",
   "name": "python3"
  },
  "language_info": {
   "codemirror_mode": {
    "name": "ipython",
    "version": 3
   },
   "file_extension": ".py",
   "mimetype": "text/x-python",
   "name": "python",
   "nbconvert_exporter": "python",
   "pygments_lexer": "ipython3",
   "version": "3.12.7"
  }
 },
 "nbformat": 4,
 "nbformat_minor": 5
}
